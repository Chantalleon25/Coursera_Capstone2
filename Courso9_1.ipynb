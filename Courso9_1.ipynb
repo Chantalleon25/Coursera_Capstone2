{
  "nbformat": 4,
  "nbformat_minor": 0,
  "metadata": {
    "colab": {
      "name": "Untitled2.ipynb",
      "provenance": [],
      "authorship_tag": "ABX9TyMMSHDrqK3HUvzb3LYz609+",
      "include_colab_link": true
    },
    "kernelspec": {
      "name": "python3",
      "display_name": "Python 3"
    }
  },
  "cells": [
    {
      "cell_type": "markdown",
      "metadata": {
        "id": "view-in-github",
        "colab_type": "text"
      },
      "source": [
        "<a href=\"https://colab.research.google.com/github/Chantalleon25/Coursera_Capstone2/blob/master/Courso9_1.ipynb\" target=\"_parent\"><img src=\"https://colab.research.google.com/assets/colab-badge.svg\" alt=\"Open In Colab\"/></a>"
      ]
    },
    {
      "cell_type": "code",
      "metadata": {
        "id": "TPXaIBlTklAd",
        "colab_type": "code",
        "colab": {}
      },
      "source": [
        "\"this notebook will be mainly used for the capstone project\"\n",
        "import pandas as pd\n",
        "import the numpy library as np\n",
        "#\"Hello Capstone Project Course!\"\n",
        "\n"
      ],
      "execution_count": null,
      "outputs": []
    }
  ]
}